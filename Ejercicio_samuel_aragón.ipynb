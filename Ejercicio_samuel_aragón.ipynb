{
  "nbformat": 4,
  "nbformat_minor": 0,
  "metadata": {
    "colab": {
      "provenance": []
    },
    "kernelspec": {
      "name": "python3",
      "display_name": "Python 3"
    },
    "language_info": {
      "name": "python"
    }
  },
  "cells": [
    {
      "cell_type": "markdown",
      "source": [
        "#SECUENCIA DE DATOS\n"
      ],
      "metadata": {
        "id": "SHcbrJhhNGOk"
      }
    },
    {
      "cell_type": "markdown",
      "source": [
        "##LISTAS\n",
        "También conocidas como vectores o arrays.\n",
        "Es una variable que, en lugar de contener un valor, contiene una secuencia ordenada de estos, a los que se puede acceder por su posición o por su índice.\n",
        "Se declaran indicando sus elementos, separados por comas, entre corchetes []"
      ],
      "metadata": {
        "id": "325LVBzsM0x7"
      }
    },
    {
      "cell_type": "code",
      "execution_count": null,
      "metadata": {
        "colab": {
          "base_uri": "https://localhost:8080/"
        },
        "id": "23GjaB68MkIG",
        "outputId": "a5ac00c0-f797-40e2-f719-1d12c14a2b83"
      },
      "outputs": [
        {
          "output_type": "execute_result",
          "data": {
            "text/plain": [
              "['primero', 'segundo', 'tercero', 'cuarto']"
            ]
          },
          "metadata": {},
          "execution_count": 1
        }
      ],
      "source": [
        "lista=[\"primero\",\"segundo\", \"tercero\", \"cuarto\"]\n",
        "lista"
      ]
    },
    {
      "cell_type": "markdown",
      "source": [
        "###Accediendo a los elementos de la lista"
      ],
      "metadata": {
        "id": "yPn3XFg4PWpt"
      }
    },
    {
      "cell_type": "code",
      "source": [
        "#Accediendo a la lista por posición\n",
        "lista[0]"
      ],
      "metadata": {
        "colab": {
          "base_uri": "https://localhost:8080/",
          "height": 36
        },
        "id": "-63XOgdXOzdR",
        "outputId": "7f06a027-7a82-4010-ecd1-baba488bea01"
      },
      "execution_count": null,
      "outputs": [
        {
          "output_type": "execute_result",
          "data": {
            "text/plain": [
              "'primero'"
            ],
            "application/vnd.google.colaboratory.intrinsic+json": {
              "type": "string"
            }
          },
          "metadata": {},
          "execution_count": 2
        }
      ]
    },
    {
      "cell_type": "code",
      "source": [
        "#Accediendo a todos los elementos de la lista empleando el slicing\n",
        "lista[:]"
      ],
      "metadata": {
        "colab": {
          "base_uri": "https://localhost:8080/"
        },
        "id": "cadWYF2xSW8L",
        "outputId": "1f0eb661-290a-467c-e251-f111393db281"
      },
      "execution_count": null,
      "outputs": [
        {
          "output_type": "execute_result",
          "data": {
            "text/plain": [
              "['primero', 'segundo', 'tercero', 'cuarto']"
            ]
          },
          "metadata": {},
          "execution_count": 4
        }
      ]
    },
    {
      "cell_type": "code",
      "source": [
        "#Accediendo a los dos primeros elementos de la lista\n",
        "lista[0:2]"
      ],
      "metadata": {
        "colab": {
          "base_uri": "https://localhost:8080/"
        },
        "id": "XsDQpQKISYiL",
        "outputId": "1a144327-f381-43b2-9303-5ab82cd8aa22"
      },
      "execution_count": null,
      "outputs": [
        {
          "output_type": "execute_result",
          "data": {
            "text/plain": [
              "['primero', 'segundo']"
            ]
          },
          "metadata": {},
          "execution_count": 5
        }
      ]
    },
    {
      "cell_type": "code",
      "source": [
        "#Existe alguna otra manera de imprimir los dos primeros elementos de la lista? Coloque la línea de código que hace esto.\n",
        "lista=[\"primero\",\"segundo\", \"tercero\", \"cuarto\"]\n",
        "lista[:2]"
      ],
      "metadata": {
        "id": "miawsux8S7BD",
        "colab": {
          "base_uri": "https://localhost:8080/"
        },
        "outputId": "a0a486a6-2f5e-435c-ee28-5d23c5d1ee11"
      },
      "execution_count": 16,
      "outputs": [
        {
          "output_type": "execute_result",
          "data": {
            "text/plain": [
              "['primero', 'segundo']"
            ]
          },
          "metadata": {},
          "execution_count": 16
        }
      ]
    },
    {
      "cell_type": "code",
      "source": [
        "#Accediendo a los dos últimos elementos de la lista\n",
        "lista[2:4]"
      ],
      "metadata": {
        "colab": {
          "base_uri": "https://localhost:8080/"
        },
        "id": "RNcXanPzTB7u",
        "outputId": "bdc54a73-bf98-4ddf-aec7-65e04e9e9a4b"
      },
      "execution_count": null,
      "outputs": [
        {
          "output_type": "execute_result",
          "data": {
            "text/plain": [
              "['tercero', 'cuarto']"
            ]
          },
          "metadata": {},
          "execution_count": 9
        }
      ]
    },
    {
      "cell_type": "code",
      "source": [
        "#Qué pasará cuando se usa un índice negativo? Ejemplo: lista[-4], lista[-3]\n",
        "lista[-3]\n",
        "#RTA: Hace referencia (dependiendo del número) al último o penúltimo... número de la lista"
      ],
      "metadata": {
        "id": "_0cx4i7CVF_6",
        "colab": {
          "base_uri": "https://localhost:8080/",
          "height": 35
        },
        "outputId": "f1f1585a-3ece-4934-d31b-cd6f8d2c63ef"
      },
      "execution_count": 17,
      "outputs": [
        {
          "output_type": "execute_result",
          "data": {
            "text/plain": [
              "'segundo'"
            ],
            "application/vnd.google.colaboratory.intrinsic+json": {
              "type": "string"
            }
          },
          "metadata": {},
          "execution_count": 17
        }
      ]
    },
    {
      "cell_type": "code",
      "source": [
        "#Existe otra forma para acceder a los dos últimos elementos de la lista?. Coloque la línea de código que hace esto.\n",
        "lista[2:]"
      ],
      "metadata": {
        "id": "Eg2ZIr5DTnFJ",
        "colab": {
          "base_uri": "https://localhost:8080/"
        },
        "outputId": "049120bc-6ccf-4596-e1a2-b2e9864c534d"
      },
      "execution_count": 22,
      "outputs": [
        {
          "output_type": "execute_result",
          "data": {
            "text/plain": [
              "['tercero', 'cuarto']"
            ]
          },
          "metadata": {},
          "execution_count": 22
        }
      ]
    },
    {
      "cell_type": "code",
      "source": [
        "#Cómo podría saberse la posición de la lista que ocupa un elemento? \n",
        "#Escriba el código que permita ingresar un elemento de la lista, e imprima la posición del elemento de la lista\n",
        "\n",
        "lista=[\"primero\",\"segundo\", \"tercero\", \"cuarto\"]\n",
        "x=str(input(\"ingrese un elemento de la lista \"))\n",
        "lista.append(x)\n",
        "print(\"La posición es \",lista.index(x))"
      ],
      "metadata": {
        "id": "AFYUJpJCQG9p",
        "colab": {
          "base_uri": "https://localhost:8080/"
        },
        "outputId": "a1e79a16-d910-417b-80a7-4ba47d94c32d"
      },
      "execution_count": 36,
      "outputs": [
        {
          "output_type": "stream",
          "name": "stdout",
          "text": [
            "ingrese un elemento de la lista primero\n",
            "La posición es  0\n"
          ]
        }
      ]
    },
    {
      "cell_type": "markdown",
      "source": [
        "###Operaciones con las listas"
      ],
      "metadata": {
        "id": "OPiv0fe4R8__"
      }
    },
    {
      "cell_type": "code",
      "source": [
        "#Crear una lista vacía\n",
        "ejemplo=[]"
      ],
      "metadata": {
        "id": "sgr461D-SAqe"
      },
      "execution_count": null,
      "outputs": []
    },
    {
      "cell_type": "code",
      "source": [
        "#Cómo se podría crear una matriz? Ingrese el código que permita generar una matriz 3x2, siendo la primera fila \"Nombre\", \"Peso\", \"Altura\"\n",
        "#y diligencie la segunda fila con números\n",
        "#Llame a esa matriz calculo_IMC\n",
        "#Debe imprimir \n",
        "#Nombre  Peso[kg] Altura[m]\n",
        "#\"Sofía\"    57      1.65 \n",
        "x=str(input(\"Ingrese su nombre \"))\n",
        "y=int(input(\"Ingrese su peso en Kg \"))\n",
        "z=float(input(\"Ingrese su altura \"))\n",
        "CALCULO_IMC=[[\"Nombre\",\"Peso (Kg)\",\"Altura\"],\n",
        "             [x,y,z]]\n",
        "matrix_length = len(CALCULO_IMC)\n",
        "for i in range (matrix_length):\n",
        "  print(CALCULO_IMC[i])\n",
        "\n"
      ],
      "metadata": {
        "id": "NnNEsFRbaUul",
        "colab": {
          "base_uri": "https://localhost:8080/"
        },
        "outputId": "4a040d65-01d8-4a1b-d80f-f3f8c4af483f"
      },
      "execution_count": 64,
      "outputs": [
        {
          "output_type": "stream",
          "name": "stdout",
          "text": [
            "Ingrese su nombre Mario\n",
            "Ingrese su peso en Kg 80\n",
            "Ingrese su altura 1.70\n",
            "['Nombre', 'Peso (Kg)', 'Altura']\n",
            "['Mario', 80, 1.7]\n"
          ]
        }
      ]
    },
    {
      "cell_type": "code",
      "source": [
        "#Genere una cuarta columna para la matriz IMC, que tenga como nombre IMC y calcule el índice de masa corporal. Esto es:\n",
        "#Nombre  Peso[kg] Altura[m]  IMC\n",
        "#\"Sofía\"    57      1.65     (agrege aquí el resultado del cálculo)\n",
        "x=str(input(\"Ingrese su nombre \"))\n",
        "y=int(input(\"Ingrese su peso en Kg \"))\n",
        "z=float(input(\"Ingrese su altura \"))\n",
        "v=float()\n",
        "v=y/(z*z)\n",
        "CALCULO_IMC=[[\"Nombre\",\"Peso (Kg)\",\"Altura\",\"IMC\"],\n",
        "             [x,y,z,v]]\n",
        "matrix_length = len(CALCULO_IMC)\n",
        "for i in range (matrix_length):\n",
        "  print(CALCULO_IMC[i])\n",
        "\n",
        "\n"
      ],
      "metadata": {
        "id": "UZ_ueaXJdJsT",
        "colab": {
          "base_uri": "https://localhost:8080/"
        },
        "outputId": "2a655756-2385-4fba-95f4-8dbcdd0683c2"
      },
      "execution_count": 63,
      "outputs": [
        {
          "output_type": "stream",
          "name": "stdout",
          "text": [
            "Ingrese su nombre Mario\n",
            "Ingrese su peso en Kg 80\n",
            "Ingrese su altura 1.70\n",
            "['Nombre', 'Peso (Kg)', 'Altura', 'IMC']\n",
            "['Mario', 80, 1.7, 27.68166089965398]\n"
          ]
        }
      ]
    },
    {
      "cell_type": "code",
      "source": [
        "#Genere una quinta columna en la matriz calculo_IMC que emita una descripción obtenida del IMC. Esto es:\n",
        "#Nombre  Peso[kg] Altura[m]  IMC        Descripción\n",
        "#\"Sofía\"    57      1.65     (calculo)  (Dependiendo del IMC debe registrar peso normal, sobrepeso, obesidad tipo I, obesidad tipo II... etc.\n",
        "\n",
        "\n",
        "\n"
      ],
      "metadata": {
        "id": "cgQqg0YJffSH"
      },
      "execution_count": null,
      "outputs": []
    },
    {
      "cell_type": "code",
      "source": [
        "#Conocer el tamaño del vector\n",
        "len(ejemplo)"
      ],
      "metadata": {
        "colab": {
          "base_uri": "https://localhost:8080/"
        },
        "id": "KZ5QnAzbaH_v",
        "outputId": "e6d57ab7-700e-4ffc-f755-3ef715b4922e"
      },
      "execution_count": null,
      "outputs": [
        {
          "output_type": "execute_result",
          "data": {
            "text/plain": [
              "4"
            ]
          },
          "metadata": {},
          "execution_count": 28
        }
      ]
    },
    {
      "cell_type": "code",
      "source": [
        "#Llenar una lista vacía\n",
        "ejemplo.append(\"Hola\")"
      ],
      "metadata": {
        "id": "JsgmYIkuSVFj"
      },
      "execution_count": null,
      "outputs": []
    },
    {
      "cell_type": "code",
      "source": [
        "#Una lista puede tener diferente tipo de datos!!\n",
        "ejemplo=[\"banana\",\"sandía\", 4, 5, False]\n",
        "ejemplo\n",
        "#Qué pasó con el elemento \"Hola\"?"
      ],
      "metadata": {
        "colab": {
          "base_uri": "https://localhost:8080/"
        },
        "id": "q6LTGURtY_RM",
        "outputId": "49b377b6-a0d0-4ecd-8dc7-620c2319f0cd"
      },
      "execution_count": null,
      "outputs": [
        {
          "output_type": "execute_result",
          "data": {
            "text/plain": [
              "['banana', 'sandía', 4, 5, False]"
            ]
          },
          "metadata": {},
          "execution_count": 34
        }
      ]
    },
    {
      "cell_type": "code",
      "source": [
        "#Eliminar un elemento de la lista\n",
        "ejemplo.remove(4)\n",
        "ejemplo"
      ],
      "metadata": {
        "colab": {
          "base_uri": "https://localhost:8080/"
        },
        "id": "p_o0X4fKZw0k",
        "outputId": "845f0f99-44ac-49f9-df9d-b62a4bcb49de"
      },
      "execution_count": null,
      "outputs": [
        {
          "output_type": "execute_result",
          "data": {
            "text/plain": [
              "['banana', 'sandía', 5, False]"
            ]
          },
          "metadata": {},
          "execution_count": 35
        }
      ]
    },
    {
      "cell_type": "code",
      "source": [
        "#Podría explicar el error generado?\n",
        "ejemplo.remove(4)"
      ],
      "metadata": {
        "colab": {
          "base_uri": "https://localhost:8080/",
          "height": 189
        },
        "id": "ODz7MJvbbh8e",
        "outputId": "f1f850da-cbfa-4c5e-d9fc-8ea1680afed0"
      },
      "execution_count": null,
      "outputs": [
        {
          "output_type": "error",
          "ename": "ValueError",
          "evalue": "ignored",
          "traceback": [
            "\u001b[0;31m---------------------------------------------------------------------------\u001b[0m",
            "\u001b[0;31mValueError\u001b[0m                                Traceback (most recent call last)",
            "\u001b[0;32m<ipython-input-36-cc5e3be70b57>\u001b[0m in \u001b[0;36m<module>\u001b[0;34m\u001b[0m\n\u001b[1;32m      1\u001b[0m \u001b[0;31m#Podría explicar el error generado?\u001b[0m\u001b[0;34m\u001b[0m\u001b[0;34m\u001b[0m\u001b[0;34m\u001b[0m\u001b[0m\n\u001b[0;32m----> 2\u001b[0;31m \u001b[0mejemplo\u001b[0m\u001b[0;34m.\u001b[0m\u001b[0mremove\u001b[0m\u001b[0;34m(\u001b[0m\u001b[0;36m4\u001b[0m\u001b[0;34m)\u001b[0m\u001b[0;34m\u001b[0m\u001b[0;34m\u001b[0m\u001b[0m\n\u001b[0m",
            "\u001b[0;31mValueError\u001b[0m: list.remove(x): x not in list"
          ]
        }
      ]
    },
    {
      "cell_type": "code",
      "source": [
        "#Podría explicar el resultado de este método? \n",
        "del ejemplo[2]\n",
        "ejemplo"
      ],
      "metadata": {
        "colab": {
          "base_uri": "https://localhost:8080/"
        },
        "id": "lhRUkQOEcWHu",
        "outputId": "ad0e0b81-cdb8-49ab-b45e-24451b1213d9"
      },
      "execution_count": null,
      "outputs": [
        {
          "output_type": "execute_result",
          "data": {
            "text/plain": [
              "['banana', 'sandía']"
            ]
          },
          "metadata": {},
          "execution_count": 38
        }
      ]
    },
    {
      "cell_type": "markdown",
      "source": [
        "### EJERCICIO PARA ELIMINAR UN QUEST OBLIGATORIO ☝\n",
        "\n",
        "![Texto alternativo](https://cdn.memegenerator.es/imagenes/memes/full/28/50/28507442.jpg)\n",
        "\n",
        "Realiza el ejercicio propuesto de forma correcta antes de que acabe el tiempo, y hazte acreedor@ de eliminar un quest obligatorio ✨"
      ],
      "metadata": {
        "id": "hmS_3bTvgCph"
      }
    },
    {
      "cell_type": "code",
      "source": [
        "# Revise la página https://www.researchgate.net/publication/273298847_Piedra_Papel_Tijera_y_sus_generalizaciones\n",
        "#Programe Piedra, papel, tijera, spock, lagarto, Papa y heavy usando arreglos.\n",
        "\n",
        "import random\n",
        "import time\n",
        "print(\"Bienvenido!,esto es PIEDRA, PAPEL, TIJERA, SPOCK, LAGARTO, PAPA, HEAVY\")\n",
        "print(\" \")\n",
        "\n",
        "while True:\n",
        "  u=input(\"Digita piedra, papel, tijera, spock, lagarto, papa o heavy - \").lower()\n",
        "  time.sleep(0.4) #para dormir o pausar el codigo por x segundos\n",
        "  PC=random.choice([\"piedra\", \"tijera\", \"papel\", \"spock\", \"lagarto\", \"papa\", \"heavy\"]) \n",
        "  time.sleep(0.4)\n",
        "  if u!=\"piedra\" and u!=\"papel\" and u!=\"tijera\" and u!=\"spock\" and u!=\"lagarto\" and u!=\"papa\" and u!=\"heavy\":\n",
        "    time.sleep(0.4)\n",
        "    print(\"UPS VERIFICA LA PALABRA, Digita una opción valida\")\n",
        "    print(\" \")\n",
        "    continue  \n",
        "\n",
        "  if u==PC:\n",
        "    print(\"EMPATE. Has elegido\",u,\"y el pc ha elegido:\",PC) \n",
        "    time.sleep(0.4)\n",
        "    print(\" \")\n",
        "  elif u==\"piedra\" and PC==\"tijera\":\n",
        "    print(\"HAS GANADO!. Has elegido\",u,\"y el pc ha elegido:\",PC)\n",
        "    time.sleep(0.4)\n",
        "    print(\" \")\n",
        "  elif u==\"papel\" and PC==\"piedra\":\n",
        "    print(\"HAS GANADO!. Has elegido\",u,\"y el pc ha elegido:\",PC)\n",
        "    time.sleep(0.4)\n",
        "    print(\" \")\n",
        "  elif u==\"tijera\" and PC==\"papel\":\n",
        "    print(\"HAS GANADO!. Has elegido\",u,\"y el pc ha elegido:\",PC)\n",
        "    time.sleep(0.4)\n",
        "    print(\" \")\n",
        "  elif u==\"piedra\" and PC==\"lagarto\":\n",
        "    print(\"HAS GANADO!. Has elegido\",u,\"y el pc ha elegido:\",PC)\n",
        "    time.sleep(0.4)\n",
        "    print(\" \")\n",
        "  elif u==\"lagarto\" and PC==\"spock\":\n",
        "    print(\"HAS GANADO!. Has elegido\",u,\"y el pc ha elegido:\",PC)\n",
        "    time.sleep(0.4)\n",
        "    print(\" \")\n",
        "  elif u==\"spock\" and PC==\"tijeras\":\n",
        "    print(\"HAS GANADO!. Has elegido\",u,\"y el pc ha elegido:\",PC)\n",
        "    time.sleep(0.4)\n",
        "    print(\" \")\n",
        "  elif u==\"tijera\" and PC==\"lagarto\":\n",
        "    print(\"HAS GANADO!. Has elegido\",u,\"y el pc ha elegido:\",PC)\n",
        "    time.sleep(0.4)\n",
        "    print(\" \")\n",
        "  elif u==\"lagarto\" and PC==\"papel\":\n",
        "    print(\"HAS GANADO!. Has elegido\",u,\"y el pc ha elegido:\",PC)\n",
        "    time.sleep(0.4)\n",
        "    print(\" \")\n",
        "  elif u==\"papel\" and PC==\"spock\":\n",
        "    print(\"HAS GANADO!. Has elegido\",u,\"y el pc ha elegido:\",PC)\n",
        "    time.sleep(0.4)\n",
        "    print(\" \")\n",
        "  elif u==\"spock\" and PC==\"piedra\":\n",
        "    print(\"HAS GANADO!. Has elegido\",u,\"y el pc ha elegido:\",PC)\n",
        "    time.sleep(0.4)\n",
        "    print(\" \")\n",
        "  elif u==\"heavy\" and PC==\"papa\":\n",
        "    print(\"HAS GANADO!. Has elegido\",u,\"y el pc ha elegido:\",PC)\n",
        "    time.sleep(0.4)\n",
        "    print(\" \")\n",
        "  elif u==\"heavy\" and PC==\"lagarto\":\n",
        "    print(\"HAS GANADO!. Has elegido\",u,\"y el pc ha elegido:\",PC)\n",
        "    time.sleep(0.4)\n",
        "    print(\" \")\n",
        "  elif u==\"papa\" and PC==\"piedra\":\n",
        "    print(\"HAS GANADO!. Has elegido\",u,\"y el pc ha elegido:\",PC)\n",
        "    time.sleep(0.4)\n",
        "    print(\" \")\n",
        "  elif u==\"papa\" and PC==\"papel\":\n",
        "    print(\"HAS GANADO!. Has elegido\",u,\"y el pc ha elegido:\",PC)\n",
        "    time.sleep(0.4)\n",
        "    print(\" \")\n",
        "  \n",
        "  else:\n",
        "    print(\"Oh no,PERDISTE. Has elegido\",u,\"y el pc ha elegido:\",PC)\n",
        "    time.sleep(0.4)\n",
        "    print(\" \")"
      ],
      "metadata": {
        "id": "p0SGwGpNgBaz",
        "colab": {
          "base_uri": "https://localhost:8080/"
        },
        "outputId": "a242020a-0489-4e04-acbd-05328a81fe33"
      },
      "execution_count": null,
      "outputs": [
        {
          "output_type": "stream",
          "name": "stdout",
          "text": [
            "Bienvenido!,esto es PIEDRA, PAPEL, TIJERA, SPOCK, LAGARTO, PAPA, HEAVY\n",
            " \n",
            "Digita piedra, papel, tijera, spock, lagarto, papa o heavy - rew\n",
            "UPS VERIFICA LA PALABRA, Digita una opción valida\n",
            " \n"
          ]
        }
      ]
    }
  ]
}