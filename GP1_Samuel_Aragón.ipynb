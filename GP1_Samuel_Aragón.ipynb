{
  "nbformat": 4,
  "nbformat_minor": 0,
  "metadata": {
    "colab": {
      "provenance": []
    },
    "kernelspec": {
      "name": "python3",
      "display_name": "Python 3"
    },
    "language_info": {
      "name": "python"
    }
  },
  "cells": [
    {
      "cell_type": "code",
      "execution_count": null,
      "metadata": {
        "id": "WQEPqH6b79XS"
      },
      "outputs": [],
      "source": [
        "import random\n",
        "import math\n",
        "\n",
        "\n",
        "def jugar():\n",
        "\n",
        "    jugador = input(\"Elige una de las siguientes opciones: 'p' para piedra, 'h' para Hoja y 't' para tijeras \")\n",
        "    jugador = jugador.lower()\n",
        "    lista = [\"p\", \"h\", \"t\"]\n",
        "    computador = random.choice(lista)\n",
        "\n",
        "    if jugador == computador:\n",
        "        return(0, jugador, computador)\n",
        "\n",
        "    if is_ganador(jugador, computador):\n",
        "        return(1, jugador, computador)\n",
        "\n",
        "    return (-1, jugador, computador)\n",
        "\n",
        "\n",
        "def is_ganador(jugador, oponente):\n",
        "\n",
        "    if (jugador == 'p' and oponente =='t') or (jugador =='h' and oponente=='p') and (jugador == 't' and oponente=='h'):\n",
        "        return True\n",
        "    return False\n",
        "\n",
        "\n",
        "def el_mejor_jugador(n):\n",
        "\n",
        "    jugador_ganador=0\n",
        "    computador_ganador =0\n",
        "    para_ganar = math.ceil(n/2)\n",
        "\n",
        "    while jugador_ganador < para_ganar and computador_ganador < para_ganar:\n",
        "        resultado, usuario, computador = jugar()\n",
        "        #Empate\n",
        "        if resultado == 0:\n",
        "            print(\"Es un empate. Tu y el computador han elegido {}. \\n\".format(usuario))\n",
        "        \n",
        "        #Tu gans\n",
        "        elif resultado == 1:\n",
        "            jugador_ganador += 1\n",
        "            print(\"Tu has elegido {} y el computador {}. Ganaste \\n\".format(usuario, computador))\n",
        "\n",
        "        else:\n",
        "            computador_ganador += 1\n",
        "            print(\"Tu has elegido {} y el computador {}. Perdiste \\n\".format(usuario, computador))\n",
        "\n",
        "\n",
        "    if jugador_ganador > computador_ganador:\n",
        "        print(\"Haz ganado lo mejor de {} juegos. !Bien hecho, venciste una máquina\".format(n))\n",
        "    else:\n",
        "        print('Desafortunadamente, el computador ha hecho lo mejor de {} juegos:'.format(n))\n",
        "\n",
        "\n",
        "if __name__ == \"__main__\":\n",
        "    el_mejor_jugador(3)"
      ]
    }
  ]
}