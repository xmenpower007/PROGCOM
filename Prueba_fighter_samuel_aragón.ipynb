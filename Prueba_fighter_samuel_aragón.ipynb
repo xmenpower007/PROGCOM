{
  "nbformat": 4,
  "nbformat_minor": 0,
  "metadata": {
    "colab": {
      "provenance": []
    },
    "kernelspec": {
      "name": "python3",
      "display_name": "Python 3"
    },
    "language_info": {
      "name": "python"
    }
  },
  "cells": [
    {
      "cell_type": "code",
      "source": [
        "diccionario={\"COMBOS\":[\"combo 1-$20000\",\"combo 2-$25000\",\"combo 3-$18000\",\"combo 4-$24500\"],\"PRODUCTOS\":[\"papas-$3000\",\"cerveza-$3500\",\"agua-$4000\",\"gaseosas-$2500\",\"jugos naturales-$7000\"]}\n",
        "print(\"Los productos disponibles son: \")\n",
        "print(\"Combo 1-$20000\\nCombo 1-$20000\\nCombo 2-$25000\\nCombo 3-$18000\\nCombo 4-$24500\\nPapas-$3000\\nCerveza-$3500\\nAgua-$4000\\nGaseosas-$2500\\nJugos naturales-$7000\")\n",
        "orden=str(input(\"Desea ordenar algo? si (s) No (n) \"))\n",
        "while orden==\"s\" or \"S\":\n",
        "  producto=input(\"Ingresa el nombre del producto: \")\n",
        "  precio = float(input('Introduce la cantidad del ' + producto + ': '))\n",
        "if orden==\"n\" or \"N\":\n",
        "  print()"
      ],
      "metadata": {
        "colab": {
          "base_uri": "https://localhost:8080/"
        },
        "id": "VM3Pdd_gxo3_",
        "outputId": "057328b2-16cf-48c0-891b-a25c48e43deb"
      },
      "execution_count": null,
      "outputs": [
        {
          "output_type": "stream",
          "name": "stdout",
          "text": [
            "Los productos disponibles son: \n",
            "Combo 1-$20000\n",
            "Combo 1-$20000\n",
            "Combo 2-$25000\n",
            "Combo 3-$18000\n",
            "Combo 4-$24500\n",
            "Papas-$3000\n",
            "Cerveza-$3500\n",
            "Agua-$4000\n",
            "Gaseosas-$2500\n",
            "Jugos naturales-$7000\n"
          ]
        }
      ]
    }
  ]
}