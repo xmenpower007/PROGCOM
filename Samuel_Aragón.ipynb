{
  "nbformat": 4,
  "nbformat_minor": 0,
  "metadata": {
    "colab": {
      "name": "Samuel Aragón",
      "provenance": []
    },
    "kernelspec": {
      "name": "python3",
      "display_name": "Python 3"
    },
    "language_info": {
      "name": "python"
    }
  },
  "cells": [
    {
      "cell_type": "markdown",
      "source": [
        "#Ejercicio 1"
      ],
      "metadata": {
        "id": "K54l5opbyFOK"
      }
    },
    {
      "cell_type": "code",
      "execution_count": 55,
      "metadata": {
        "colab": {
          "base_uri": "https://localhost:8080/"
        },
        "id": "Tb2qF_LskOs_",
        "outputId": "ab20039a-99d6-4a7b-8d4c-cb39c5e24cae"
      },
      "outputs": [
        {
          "output_type": "stream",
          "name": "stdout",
          "text": [
            " Ingrese primer número 5\n",
            " Ingrese segundo número 4\n",
            "1.25\n",
            "La división no es exacta\n",
            "El residuo de la división es  1\n"
          ]
        }
      ],
      "source": [
        "x=int(input(\" Ingrese primer número \"))\n",
        "y=int(input(\" Ingrese segundo número \"))\n",
        "if int(y==0):\n",
        "  print(\"Error\")\n",
        "else:\n",
        "  print(x/y)\n",
        "  if int(x%y)==0:\n",
        "    print(\"la división es exacta\")\n",
        "  else:\n",
        "    print(\"La división no es exacta\")\n",
        "    print(\"El residuo de la división es \",x%y)\n"
      ]
    },
    {
      "cell_type": "markdown",
      "source": [
        "#Ejercicio 1 pero con elif :)"
      ],
      "metadata": {
        "id": "v9C7Rcr5yUwZ"
      }
    },
    {
      "cell_type": "code",
      "source": [
        "x=int(input(\" Ingrese primer número \"))\n",
        "y=int(input(\" Ingrese segundo número \"))\n",
        "if int(y==0):\n",
        "  print(\"Error\")\n",
        "elif y>0:\n",
        "  print(x/y)\n",
        "  if int(x%y)==0:\n",
        "    print(\"la división es exacta\")\n",
        "  else:\n",
        "    print(\"La división no es exacta\")\n",
        "    print(\"El residuo de la división es \",x%y)"
      ],
      "metadata": {
        "colab": {
          "base_uri": "https://localhost:8080/"
        },
        "id": "OtsQoHOYxqCK",
        "outputId": "8a4509c8-2183-4d4b-c6ab-13c9c6a84726"
      },
      "execution_count": 50,
      "outputs": [
        {
          "output_type": "stream",
          "name": "stdout",
          "text": [
            " Ingrese primer número 5\n",
            " Ingrese segundo número 9\n",
            "0.5555555555555556\n",
            "La división no es exacta\n",
            "El residuo de la división es  5\n"
          ]
        }
      ]
    },
    {
      "cell_type": "markdown",
      "source": [
        "#Ejercicio 2\n"
      ],
      "metadata": {
        "id": "bHRFFJ_hyY6x"
      }
    },
    {
      "cell_type": "code",
      "source": [
        "e=int(input(\"Ingrese un número \"))\n",
        "r=int(input(\"Ingrese otro número \"))\n",
        "if int(e%r==0):\n",
        "  print(\"Son múltiplos\")\n",
        "else:\n",
        "  print(\"No son múñtiplos\")"
      ],
      "metadata": {
        "colab": {
          "base_uri": "https://localhost:8080/"
        },
        "id": "XrCHCNl6yYc5",
        "outputId": "051ef1a7-d437-4540-8670-62126d0c70c1"
      },
      "execution_count": 57,
      "outputs": [
        {
          "output_type": "stream",
          "name": "stdout",
          "text": [
            "Ingrese un número 4\n",
            "Ingrese otro número 2\n",
            "Son múltiplos\n"
          ]
        }
      ]
    },
    {
      "cell_type": "markdown",
      "source": [
        "#Ejercicio 6"
      ],
      "metadata": {
        "id": "KuwEdaSs0bCU"
      }
    },
    {
      "cell_type": "code",
      "source": [
        "a=float(input(\"Ingrese nota\"))\n",
        "b=float(input(\"Ingrese nota\"))\n",
        "c=float(input(\"Ingrese nota\"))\n",
        "d=float(input(\"Ingrese nota\"))\n",
        "float(t)\n",
        "t=(a+b+c+d)/4\n",
        "print(\"Su promedio es\",t)"
      ],
      "metadata": {
        "colab": {
          "base_uri": "https://localhost:8080/",
          "height": 304
        },
        "id": "0KVizFaZ0U5t",
        "outputId": "1f6f1fb1-edb4-4e6a-e656-b6303ad7d3d4"
      },
      "execution_count": 58,
      "outputs": [
        {
          "name": "stdout",
          "output_type": "stream",
          "text": [
            "Ingrese nota4.5\n",
            "Ingrese nota4.5\n",
            "Ingrese nota4.5\n",
            "Ingrese nota4.5\n"
          ]
        },
        {
          "output_type": "error",
          "ename": "NameError",
          "evalue": "ignored",
          "traceback": [
            "\u001b[0;31m---------------------------------------------------------------------------\u001b[0m",
            "\u001b[0;31mNameError\u001b[0m                                 Traceback (most recent call last)",
            "\u001b[0;32m<ipython-input-58-4b17c8f445f4>\u001b[0m in \u001b[0;36m<module>\u001b[0;34m()\u001b[0m\n\u001b[1;32m      3\u001b[0m \u001b[0mc\u001b[0m\u001b[0;34m=\u001b[0m\u001b[0mfloat\u001b[0m\u001b[0;34m(\u001b[0m\u001b[0minput\u001b[0m\u001b[0;34m(\u001b[0m\u001b[0;34m\"Ingrese nota\"\u001b[0m\u001b[0;34m)\u001b[0m\u001b[0;34m)\u001b[0m\u001b[0;34m\u001b[0m\u001b[0;34m\u001b[0m\u001b[0m\n\u001b[1;32m      4\u001b[0m \u001b[0md\u001b[0m\u001b[0;34m=\u001b[0m\u001b[0mfloat\u001b[0m\u001b[0;34m(\u001b[0m\u001b[0minput\u001b[0m\u001b[0;34m(\u001b[0m\u001b[0;34m\"Ingrese nota\"\u001b[0m\u001b[0;34m)\u001b[0m\u001b[0;34m)\u001b[0m\u001b[0;34m\u001b[0m\u001b[0;34m\u001b[0m\u001b[0m\n\u001b[0;32m----> 5\u001b[0;31m \u001b[0mfloat\u001b[0m\u001b[0;34m(\u001b[0m\u001b[0mt\u001b[0m\u001b[0;34m)\u001b[0m\u001b[0;34m\u001b[0m\u001b[0;34m\u001b[0m\u001b[0m\n\u001b[0m\u001b[1;32m      6\u001b[0m \u001b[0;34m\u001b[0m\u001b[0m\n\u001b[1;32m      7\u001b[0m \u001b[0mprint\u001b[0m\u001b[0;34m(\u001b[0m\u001b[0;34m\"Su promedio es\"\u001b[0m\u001b[0;34m,\u001b[0m\u001b[0mt\u001b[0m\u001b[0;34m)\u001b[0m\u001b[0;34m\u001b[0m\u001b[0;34m\u001b[0m\u001b[0m\n",
            "\u001b[0;31mNameError\u001b[0m: name 't' is not defined"
          ]
        }
      ]
    }
  ]
}