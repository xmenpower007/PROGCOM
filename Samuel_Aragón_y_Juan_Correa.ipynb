{
  "nbformat": 4,
  "nbformat_minor": 0,
  "metadata": {
    "colab": {
      "name": "Samuel Aragón y Juan Correa",
      "provenance": []
    },
    "kernelspec": {
      "name": "python3",
      "display_name": "Python 3"
    },
    "language_info": {
      "name": "python"
    }
  },
  "cells": [
    {
      "cell_type": "markdown",
      "source": [
        "# #**Repetición profe me hice con Juan Correa no me baje plis :D**\n",
        "\n",
        "\n",
        "\n",
        "##Ejercicios for/while:\n",
        "\n",
        "\n"
      ],
      "metadata": {
        "id": "E7efsIvJXvDv"
      }
    },
    {
      "cell_type": "markdown",
      "source": [
        "#Para\n",
        "for i in range (ci,pasos,cf):\n",
        "\n",
        "*   ci=vaor inicial\n",
        "*   Pasos= Incremento\n",
        "*   fc= valor final\n",
        "\n",
        "\n",
        "\n",
        "\n",
        "\n",
        "\n"
      ],
      "metadata": {
        "id": "2bOOAWtoYNH1"
      }
    },
    {
      "cell_type": "code",
      "source": [
        "n=0\n",
        "while n<11:\n",
        "  n=n+1\n",
        "  print(\"La tabla del \", n)\n",
        "  for i in range (1,11):\n",
        "    print(f\"{n}x{i}=\",n*1)\n",
        "    print(\"\")"
      ],
      "metadata": {
        "id": "Oxa9qtpCdzfA"
      },
      "execution_count": null,
      "outputs": []
    },
    {
      "cell_type": "code",
      "source": [
        "a=input(\"Ingrese algo \")\n",
        "for i in range (1,12,1):\n",
        "  print((a*i).center(20))"
      ],
      "metadata": {
        "colab": {
          "base_uri": "https://localhost:8080/"
        },
        "id": "LMsVzJefeymH",
        "outputId": "346c2061-3092-4d71-bf67-fec9cb8f121b"
      },
      "execution_count": 42,
      "outputs": [
        {
          "output_type": "stream",
          "name": "stdout",
          "text": [
            "Ingrese algo 2\n",
            "         2          \n",
            "         22         \n",
            "        222         \n",
            "        2222        \n",
            "       22222        \n",
            "       222222       \n",
            "      2222222       \n",
            "      22222222      \n",
            "     222222222      \n",
            "     2222222222     \n",
            "    22222222222     \n"
          ]
        }
      ]
    },
    {
      "cell_type": "markdown",
      "source": [
        "###Ejercicio número 1 While\n",
        "\n"
      ],
      "metadata": {
        "id": "eXgXrTo_ywFH"
      }
    },
    {
      "cell_type": "code",
      "source": [
        "#Ejercicio número 1\n",
        "n=int(input(\"Ingresa un número, menos el 2 porfa \"))\n",
        "i=2\n",
        "while n%i !=0:\n",
        "  i+=1\n",
        "if i==n:\n",
        "  print(str(n),\" es primo\")\n",
        "\n",
        "else:\n",
        "  print(str(n), \" no es primo\")"
      ],
      "metadata": {
        "colab": {
          "base_uri": "https://localhost:8080/"
        },
        "id": "06lH2sjLrmbJ",
        "outputId": "15f4fabb-6ce5-4fc6-cbb4-089879ec27f6"
      },
      "execution_count": 89,
      "outputs": [
        {
          "output_type": "stream",
          "name": "stdout",
          "text": [
            "Ingresa un número, menos el 2 porfa 9\n",
            "9  no es primo\n"
          ]
        }
      ]
    },
    {
      "cell_type": "markdown",
      "source": [
        "###Ejercicio número 1 for"
      ],
      "metadata": {
        "id": "dsq4lk06y7vu"
      }
    },
    {
      "cell_type": "code",
      "source": [
        "Acumulador=0\n",
        "N=int(input(\"ingrese el número \"))\n",
        "for i in range (1,N+1):\n",
        "  print(N,\"MOD\",i,\"=\",N%i) ## Esta parte no es fundamental en el codigo, se usa para darle al usuario la justificación de los valores que dividen al numero\n",
        "  if N%i == 0:\n",
        "     Acumulador= Acumulador + 1\n",
        "\n",
        "print(\" \")## Espacio para separar la respuesta de la lista de los MOD\n",
        "\n",
        "if Acumulador <= 2:\n",
        " print(N, \"Solo es divisible por 1 y el mismo por lo que\", N,\"es un número primo\")\n",
        "else:\n",
        "  print(N, \"Es divisible por más valores qué 1 y el mismo por lo que\", N,\"no es un número primo\")"
      ],
      "metadata": {
        "colab": {
          "base_uri": "https://localhost:8080/"
        },
        "id": "UpmzE3w9zBMG",
        "outputId": "0c752572-a274-4b1e-a5e2-d154886aff71"
      },
      "execution_count": 90,
      "outputs": [
        {
          "output_type": "stream",
          "name": "stdout",
          "text": [
            "ingrese el número 5\n",
            "5 MOD 1 = 0\n",
            "5 MOD 2 = 1\n",
            "5 MOD 3 = 2\n",
            "5 MOD 4 = 1\n",
            "5 MOD 5 = 0\n",
            " \n",
            "5 Solo es divisible por 1 y el mismo por lo que 5 es un número primo\n"
          ]
        }
      ]
    }
  ]
}